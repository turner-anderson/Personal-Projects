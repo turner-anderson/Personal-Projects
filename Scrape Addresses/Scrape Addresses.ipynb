{
 "cells": [
  {
   "cell_type": "code",
   "execution_count": null,
   "metadata": {},
   "outputs": [],
   "source": [
    "import pandas as pd\n",
    "import numpy as np\n",
    "import missingno\n",
    "import logging\n",
    "import time\n",
    "import getpass\n",
    "from tqdm import tqdm_notebook\n",
    "from selenium import webdriver\n",
    "from selenium.common.exceptions import NoSuchFrameException\n",
    "from address_scraping import *\n",
    "\n",
    "cp = fr'C:\\Users\\{getpass.getuser()}\\AppData\\Local\\Microsoft\\WindowsApps\\chromedriver.exe'\n",
    "%matplotlib inline\n",
    "\n",
    "## Set up logger\n",
    "logging.basicConfig(\n",
    "                    format='%(asctime)s %(name)-12s %(levelname)-8s %(message)s',\n",
    "                    datefmt='%m-%d %H:%M',\n",
    "                    )\n",
    "_log = logging.getLogger(name=__name__)\n",
    "_log.setLevel(logging.INFO)"
   ]
  },
  {
   "cell_type": "code",
   "execution_count": null,
   "metadata": {},
   "outputs": [],
   "source": [
    "## Import dataframe\n",
    "p = r'D:\\LoveAkron\\Orgs, Households, Addresses by Donation-2020-02-06-14-43-49.xlsx'\n",
    "df = pd.read_excel(p, dtype=str)\n",
    "display(df.head(5))\n",
    "display(missingno.matrix(df))"
   ]
  },
  {
   "cell_type": "code",
   "execution_count": null,
   "metadata": {},
   "outputs": [],
   "source": [
    "## Drop duplicate names, since we can easily map back to them later\n",
    "df['full_name'] = df['First Name'] + ' ' + df['Last Name']\n",
    "df['counts'] = df['full_name'].map(df['full_name'].value_counts())\n",
    "_log.debug(f\"Pre-drop we had {df.shape[0]} observations\")\n",
    "df.drop_duplicates(subset=['full_name'], inplace=True)\n",
    "_log.debug(f\"Post-drop we had {df.shape[0]} observations\")"
   ]
  },
  {
   "cell_type": "code",
   "execution_count": null,
   "metadata": {},
   "outputs": [],
   "source": [
    "fiscal_site = 'https://fiscaloffice.summitoh.net/index.php/property-tax-search'\n",
    "test_fn = 'Turner'\n",
    "test_ln = 'Anderson'\n",
    "out_p = r'D:\\LoveAkron\\web_data\\housing\\\\'"
   ]
  },
  {
   "cell_type": "code",
   "execution_count": null,
   "metadata": {},
   "outputs": [],
   "source": [
    "## Open a browser object\n",
    "browser = webdriver.Chrome(executable_path=cp)"
   ]
  },
  {
   "cell_type": "code",
   "execution_count": null,
   "metadata": {},
   "outputs": [],
   "source": [
    "iterator = df.iterrows()\n",
    "final_data = pd.DataFrame(columns=['first_name', 'last_name', 'lives_here', 'address', 'city', 'zipcode'])\n",
    "i = 0"
   ]
  },
  {
   "cell_type": "code",
   "execution_count": null,
   "metadata": {},
   "outputs": [],
   "source": [
    "for row in tqdm_notebook(iterator, desc='Scraping in Progress:', total=df.shape[0]-2279):\n",
    "    fn = row[1]['First Name']\n",
    "    ln = row[1]['Last Name']\n",
    "    _log.debug(f'Current individual: {fn} {ln}')\n",
    "    if fn and ln:\n",
    "        row_data = scrape_addresses(fn, ln, browser)\n",
    "        if row_data:\n",
    "            final_data.loc[i] = row_data\n",
    "            i += 1\n",
    "        time.sleep(10 + np.random.normal(12,3))"
   ]
  },
  {
   "cell_type": "code",
   "execution_count": null,
   "metadata": {},
   "outputs": [],
   "source": [
    "browser.close()"
   ]
  },
  {
   "cell_type": "code",
   "execution_count": null,
   "metadata": {},
   "outputs": [],
   "source": [
    "final_data.to_csv(f'{out_p}full_data.csv', index=False, sep='|')"
   ]
  },
  {
   "cell_type": "code",
   "execution_count": null,
   "metadata": {},
   "outputs": [],
   "source": []
  }
 ],
 "metadata": {
  "kernelspec": {
   "display_name": "Python 3",
   "language": "python",
   "name": "python3"
  },
  "language_info": {
   "codemirror_mode": {
    "name": "ipython",
    "version": 3
   },
   "file_extension": ".py",
   "mimetype": "text/x-python",
   "name": "python",
   "nbconvert_exporter": "python",
   "pygments_lexer": "ipython3",
   "version": "3.7.3"
  }
 },
 "nbformat": 4,
 "nbformat_minor": 2
}
